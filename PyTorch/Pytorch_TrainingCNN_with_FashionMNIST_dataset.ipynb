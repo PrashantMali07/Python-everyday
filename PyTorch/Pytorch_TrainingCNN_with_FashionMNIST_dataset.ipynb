{
 "cells": [
  {
   "cell_type": "code",
   "execution_count": 2,
   "id": "3c21995a-8f1a-4a19-bf67-64ca6cf35552",
   "metadata": {},
   "outputs": [],
   "source": [
    "import torch\n",
    "import torchvision\n",
    "import torchvision.transforms as transforms"
   ]
  },
  {
   "cell_type": "code",
   "execution_count": 3,
   "id": "5c8a319d-7831-4e64-9cf9-5d904d7bcb60",
   "metadata": {},
   "outputs": [
    {
     "data": {
      "text/plain": [
       "True"
      ]
     },
     "execution_count": 3,
     "metadata": {},
     "output_type": "execute_result"
    }
   ],
   "source": [
    "## checking CUDA availability\n",
    "torch.cuda.is_available()"
   ]
  },
  {
   "cell_type": "code",
   "execution_count": 4,
   "id": "167603eb",
   "metadata": {},
   "outputs": [
    {
     "data": {
      "text/plain": [
       "'cuda:0'"
      ]
     },
     "execution_count": 4,
     "metadata": {},
     "output_type": "execute_result"
    }
   ],
   "source": [
    "device = 'cuda:0' if torch.cuda.is_available() else 'cpu'\n",
    "device"
   ]
  },
  {
   "cell_type": "code",
   "execution_count": 5,
   "id": "e907373f",
   "metadata": {},
   "outputs": [],
   "source": [
    "transform = transforms.ToTensor()\n",
    "\n",
    "batch_size = 8\n",
    "\n",
    "trainset = torchvision.datasets.FashionMNIST(root='./data', train=True,\n",
    "                                             download=True, transform=transform)\n",
    "\n",
    "testset = torchvision.datasets.FashionMNIST(root='./data', train=False,\n",
    "                                            download=True, transform=transform)\n",
    "\n",
    "classes = ['T-shirt/top', 'Trouser/pants', 'Pullover', 'Dress', 'Coat', 'Sandal', 'Shirt', 'Sneaker', 'Bag', 'Ankle boot']"
   ]
  },
  {
   "cell_type": "code",
   "execution_count": 6,
   "id": "06adee49",
   "metadata": {},
   "outputs": [
    {
     "data": {
      "text/plain": [
       "[torch.Size([1, 28, 28]), 9]"
      ]
     },
     "execution_count": 6,
     "metadata": {},
     "output_type": "execute_result"
    }
   ],
   "source": [
    "train_iter = iter(trainset)\n",
    "\n",
    "image, label = next(train_iter)\n",
    "\n",
    "[image.shape, label]"
   ]
  },
  {
   "cell_type": "code",
   "execution_count": 7,
   "id": "8ae3e08f",
   "metadata": {},
   "outputs": [
    {
     "data": {
      "text/plain": [
       "(0.0, 1.0)"
      ]
     },
     "execution_count": 7,
     "metadata": {},
     "output_type": "execute_result"
    }
   ],
   "source": [
    "torch.min(image).item(), torch.max(image).item()"
   ]
  },
  {
   "cell_type": "code",
   "execution_count": 8,
   "id": "38aee27a",
   "metadata": {},
   "outputs": [
    {
     "name": "stdout",
     "output_type": "stream",
     "text": [
      "Ankle boot\n"
     ]
    },
    {
     "data": {
      "image/png": "[encoded data removed]",
      "text/plain": [
       "<Figure size 640x480 with 1 Axes>"
      ]
     },
     "metadata": {},
     "output_type": "display_data"
    }
   ],
   "source": [
    "import matplotlib.pyplot as plt\n",
    "import numpy as np\n",
    "\n",
    "np_img = image.numpy()\n",
    "print(classes[label])\n",
    "plt.imshow(np_img.reshape((28,28,1)))\n",
    "plt.show()"
   ]
  },
  {
   "cell_type": "code",
   "execution_count": 9,
   "id": "55fcb9d9",
   "metadata": {},
   "outputs": [
    {
     "data": {
      "text/plain": [
       "array([[[0.        , 0.        , 0.        , 0.        , 0.        ,\n",
       "         0.        , 0.        , 0.        , 0.        , 0.        ,\n",
       "         0.        , 0.        , 0.        , 0.        , 0.        ,\n",
       "         0.        , 0.        , 0.        , 0.        , 0.        ,\n",
       "         0.        , 0.        , 0.        , 0.        , 0.        ,\n",
       "         0.        , 0.        , 0.        ],\n",
       "        [0.        , 0.        , 0.        , 0.        , 0.        ,\n",
       "         0.        , 0.        , 0.        , 0.        , 0.        ,\n",
       "         0.        , 0.        , 0.        , 0.        , 0.        ,\n",
       "         0.        , 0.        , 0.        , 0.        , 0.        ,\n",
       "         0.        , 0.        , 0.        , 0.        , 0.        ,\n",
       "         0.        , 0.        , 0.        ],\n",
       "        [0.        , 0.        , 0.        , 0.        , 0.        ,\n",
       "         0.        , 0.        , 0.        , 0.        , 0.        ,\n",
       "         0.        , 0.        , 0.        , 0.        , 0.        ,\n",
       "         0.        , 0.        , 0.        , 0.        , 0.        ,\n",
       "         0.        , 0.        , 0.        , 0.        , 0.        ,\n",
       "         0.        , 0.        , 0.        ],\n",
       "        [0.        , 0.        , 0.        , 0.        , 0.        ,\n",
       "         0.        , 0.        , 0.        , 0.        , 0.        ,\n",
       "         0.        , 0.        , 0.00392157, 0.        , 0.        ,\n",
       "         0.05098039, 0.28627452, 0.        , 0.        , 0.00392157,\n",
       "         0.01568628, 0.        , 0.        , 0.        , 0.        ,\n",
       "         0.00392157, 0.00392157, 0.        ],\n",
       "        [0.        , 0.        , 0.        , 0.        , 0.        ,\n",
       "         0.        , 0.        , 0.        , 0.        , 0.        ,\n",
       "         0.        , 0.        , 0.01176471, 0.        , 0.14117648,\n",
       "         0.53333336, 0.49803922, 0.24313726, 0.21176471, 0.        ,\n",
       "         0.        , 0.        , 0.00392157, 0.01176471, 0.01568628,\n",
       "         0.        , 0.        , 0.01176471],\n",
       "        [0.        , 0.        , 0.        , 0.        , 0.        ,\n",
       "         0.        , 0.        , 0.        , 0.        , 0.        ,\n",
       "         0.        , 0.        , 0.02352941, 0.        , 0.4       ,\n",
       "         0.8       , 0.6901961 , 0.5254902 , 0.5647059 , 0.48235294,\n",
       "         0.09019608, 0.        , 0.        , 0.        , 0.        ,\n",
       "         0.04705882, 0.03921569, 0.        ],\n",
       "        [0.        , 0.        , 0.        , 0.        , 0.        ,\n",
       "         0.        , 0.        , 0.        , 0.        , 0.        ,\n",
       "         0.        , 0.        , 0.        , 0.        , 0.60784316,\n",
       "         0.9254902 , 0.8117647 , 0.69803923, 0.41960785, 0.6117647 ,\n",
       "         0.6313726 , 0.42745098, 0.2509804 , 0.09019608, 0.3019608 ,\n",
       "         0.50980395, 0.28235295, 0.05882353],\n",
       "        [0.        , 0.        , 0.        , 0.        , 0.        ,\n",
       "         0.        , 0.        , 0.        , 0.        , 0.        ,\n",
       "         0.        , 0.00392157, 0.        , 0.27058825, 0.8117647 ,\n",
       "         0.8745098 , 0.85490197, 0.84705883, 0.84705883, 0.6392157 ,\n",
       "         0.49803922, 0.4745098 , 0.47843137, 0.57254905, 0.5529412 ,\n",
       "         0.34509805, 0.6745098 , 0.25882354],\n",
       "        [0.        , 0.        , 0.        , 0.        , 0.        ,\n",
       "         0.        , 0.        , 0.        , 0.        , 0.00392157,\n",
       "         0.00392157, 0.00392157, 0.        , 0.78431374, 0.9098039 ,\n",
       "         0.9098039 , 0.9137255 , 0.8980392 , 0.8745098 , 0.8745098 ,\n",
       "         0.84313726, 0.8352941 , 0.6431373 , 0.49803922, 0.48235294,\n",
       "         0.76862746, 0.8980392 , 0.        ],\n",
       "        [0.        , 0.        , 0.        , 0.        , 0.        ,\n",
       "         0.        , 0.        , 0.        , 0.        , 0.        ,\n",
       "         0.        , 0.        , 0.        , 0.7176471 , 0.88235295,\n",
       "         0.84705883, 0.8745098 , 0.89411765, 0.92156863, 0.8901961 ,\n",
       "         0.8784314 , 0.87058824, 0.8784314 , 0.8666667 , 0.8745098 ,\n",
       "         0.9607843 , 0.6784314 , 0.        ],\n",
       "        [0.        , 0.        , 0.        , 0.        , 0.        ,\n",
       "         0.        , 0.        , 0.        , 0.        , 0.        ,\n",
       "         0.        , 0.        , 0.        , 0.75686276, 0.89411765,\n",
       "         0.85490197, 0.8352941 , 0.7764706 , 0.7058824 , 0.83137256,\n",
       "         0.8235294 , 0.827451  , 0.8352941 , 0.8745098 , 0.8627451 ,\n",
       "         0.9529412 , 0.7921569 , 0.        ],\n",
       "        [0.        , 0.        , 0.        , 0.        , 0.        ,\n",
       "         0.        , 0.        , 0.        , 0.        , 0.00392157,\n",
       "         0.01176471, 0.        , 0.04705882, 0.85882354, 0.8627451 ,\n",
       "         0.83137256, 0.85490197, 0.7529412 , 0.6627451 , 0.8901961 ,\n",
       "         0.8156863 , 0.85490197, 0.8784314 , 0.83137256, 0.8862745 ,\n",
       "         0.77254903, 0.81960785, 0.20392157],\n",
       "        [0.        , 0.        , 0.        , 0.        , 0.        ,\n",
       "         0.        , 0.        , 0.        , 0.        , 0.        ,\n",
       "         0.02352941, 0.        , 0.3882353 , 0.95686275, 0.87058824,\n",
       "         0.8627451 , 0.85490197, 0.79607844, 0.7764706 , 0.8666667 ,\n",
       "         0.84313726, 0.8352941 , 0.87058824, 0.8627451 , 0.9607843 ,\n",
       "         0.46666667, 0.654902  , 0.21960784],\n",
       "        [0.        , 0.        , 0.        , 0.        , 0.        ,\n",
       "         0.        , 0.        , 0.        , 0.        , 0.01568628,\n",
       "         0.        , 0.        , 0.21568628, 0.9254902 , 0.89411765,\n",
       "         0.9019608 , 0.89411765, 0.9411765 , 0.9098039 , 0.8352941 ,\n",
       "         0.85490197, 0.8745098 , 0.91764706, 0.8509804 , 0.8509804 ,\n",
       "         0.81960785, 0.36078432, 0.        ],\n",
       "        [0.        , 0.        , 0.00392157, 0.01568628, 0.02352941,\n",
       "         0.02745098, 0.00784314, 0.        , 0.        , 0.        ,\n",
       "         0.        , 0.        , 0.92941177, 0.8862745 , 0.8509804 ,\n",
       "         0.8745098 , 0.87058824, 0.85882354, 0.87058824, 0.8666667 ,\n",
       "         0.84705883, 0.8745098 , 0.8980392 , 0.84313726, 0.85490197,\n",
       "         1.        , 0.3019608 , 0.        ],\n",
       "        [0.        , 0.01176471, 0.        , 0.        , 0.        ,\n",
       "         0.        , 0.        , 0.        , 0.        , 0.24313726,\n",
       "         0.5686275 , 0.8       , 0.89411765, 0.8117647 , 0.8352941 ,\n",
       "         0.8666667 , 0.85490197, 0.8156863 , 0.827451  , 0.85490197,\n",
       "         0.8784314 , 0.8745098 , 0.85882354, 0.84313726, 0.8784314 ,\n",
       "         0.95686275, 0.62352943, 0.        ],\n",
       "        [0.        , 0.        , 0.        , 0.        , 0.07058824,\n",
       "         0.17254902, 0.32156864, 0.41960785, 0.7411765 , 0.89411765,\n",
       "         0.8627451 , 0.87058824, 0.8509804 , 0.8862745 , 0.78431374,\n",
       "         0.8039216 , 0.827451  , 0.9019608 , 0.8784314 , 0.91764706,\n",
       "         0.6901961 , 0.7372549 , 0.98039216, 0.972549  , 0.9137255 ,\n",
       "         0.93333334, 0.84313726, 0.        ],\n",
       "        [0.        , 0.22352941, 0.73333335, 0.8156863 , 0.8784314 ,\n",
       "         0.8666667 , 0.8784314 , 0.8156863 , 0.8       , 0.8392157 ,\n",
       "         0.8156863 , 0.81960785, 0.78431374, 0.62352943, 0.9607843 ,\n",
       "         0.75686276, 0.80784315, 0.8745098 , 1.        , 1.        ,\n",
       "         0.8666667 , 0.91764706, 0.8666667 , 0.827451  , 0.8627451 ,\n",
       "         0.9098039 , 0.9647059 , 0.        ],\n",
       "        [0.01176471, 0.7921569 , 0.89411765, 0.8784314 , 0.8666667 ,\n",
       "         0.827451  , 0.827451  , 0.8392157 , 0.8039216 , 0.8039216 ,\n",
       "         0.8039216 , 0.8627451 , 0.9411765 , 0.3137255 , 0.5882353 ,\n",
       "         1.        , 0.8980392 , 0.8666667 , 0.7372549 , 0.6039216 ,\n",
       "         0.7490196 , 0.8235294 , 0.8       , 0.81960785, 0.87058824,\n",
       "         0.89411765, 0.88235295, 0.        ],\n",
       "        [0.38431373, 0.9137255 , 0.7764706 , 0.8235294 , 0.87058824,\n",
       "         0.8980392 , 0.8980392 , 0.91764706, 0.9764706 , 0.8627451 ,\n",
       "         0.7607843 , 0.84313726, 0.8509804 , 0.94509804, 0.25490198,\n",
       "         0.28627452, 0.41568628, 0.45882353, 0.65882355, 0.85882354,\n",
       "         0.8666667 , 0.84313726, 0.8509804 , 0.8745098 , 0.8745098 ,\n",
       "         0.8784314 , 0.8980392 , 0.11372549],\n",
       "        [0.29411766, 0.8       , 0.83137256, 0.8       , 0.75686276,\n",
       "         0.8039216 , 0.827451  , 0.88235295, 0.84705883, 0.7254902 ,\n",
       "         0.77254903, 0.80784315, 0.7764706 , 0.8352941 , 0.9411765 ,\n",
       "         0.7647059 , 0.8901961 , 0.9607843 , 0.9372549 , 0.8745098 ,\n",
       "         0.85490197, 0.83137256, 0.81960785, 0.87058824, 0.8627451 ,\n",
       "         0.8666667 , 0.9019608 , 0.2627451 ],\n",
       "        [0.1882353 , 0.79607844, 0.7176471 , 0.7607843 , 0.8352941 ,\n",
       "         0.77254903, 0.7254902 , 0.74509805, 0.7607843 , 0.7529412 ,\n",
       "         0.7921569 , 0.8392157 , 0.85882354, 0.8666667 , 0.8627451 ,\n",
       "         0.9254902 , 0.88235295, 0.84705883, 0.78039217, 0.80784315,\n",
       "         0.7294118 , 0.70980394, 0.69411767, 0.6745098 , 0.70980394,\n",
       "         0.8039216 , 0.80784315, 0.4509804 ],\n",
       "        [0.        , 0.47843137, 0.85882354, 0.75686276, 0.7019608 ,\n",
       "         0.67058825, 0.7176471 , 0.76862746, 0.8       , 0.8235294 ,\n",
       "         0.8352941 , 0.8117647 , 0.827451  , 0.8235294 , 0.78431374,\n",
       "         0.76862746, 0.7607843 , 0.7490196 , 0.7647059 , 0.7490196 ,\n",
       "         0.7764706 , 0.7529412 , 0.6901961 , 0.6117647 , 0.654902  ,\n",
       "         0.69411767, 0.8235294 , 0.36078432],\n",
       "        [0.        , 0.        , 0.2901961 , 0.7411765 , 0.83137256,\n",
       "         0.7490196 , 0.6862745 , 0.6745098 , 0.6862745 , 0.70980394,\n",
       "         0.7254902 , 0.7372549 , 0.7411765 , 0.7372549 , 0.75686276,\n",
       "         0.7764706 , 0.8       , 0.81960785, 0.8235294 , 0.8235294 ,\n",
       "         0.827451  , 0.7372549 , 0.7372549 , 0.7607843 , 0.7529412 ,\n",
       "         0.84705883, 0.6666667 , 0.        ],\n",
       "        [0.00784314, 0.        , 0.        , 0.        , 0.25882354,\n",
       "         0.78431374, 0.87058824, 0.92941177, 0.9372549 , 0.9490196 ,\n",
       "         0.9647059 , 0.9529412 , 0.95686275, 0.8666667 , 0.8627451 ,\n",
       "         0.75686276, 0.7490196 , 0.7019608 , 0.7137255 , 0.7137255 ,\n",
       "         0.70980394, 0.6901961 , 0.6509804 , 0.65882355, 0.3882353 ,\n",
       "         0.22745098, 0.        , 0.        ],\n",
       "        [0.        , 0.        , 0.        , 0.        , 0.        ,\n",
       "         0.        , 0.        , 0.15686275, 0.23921569, 0.17254902,\n",
       "         0.28235295, 0.16078432, 0.13725491, 0.        , 0.        ,\n",
       "         0.        , 0.        , 0.        , 0.        , 0.        ,\n",
       "         0.        , 0.        , 0.        , 0.        , 0.        ,\n",
       "         0.        , 0.        , 0.        ],\n",
       "        [0.        , 0.        , 0.        , 0.        , 0.        ,\n",
       "         0.        , 0.        , 0.        , 0.        , 0.        ,\n",
       "         0.        , 0.        , 0.        , 0.        , 0.        ,\n",
       "         0.        , 0.        , 0.        , 0.        , 0.        ,\n",
       "         0.        , 0.        , 0.        , 0.        , 0.        ,\n",
       "         0.        , 0.        , 0.        ],\n",
       "        [0.        , 0.        , 0.        , 0.        , 0.        ,\n",
       "         0.        , 0.        , 0.        , 0.        , 0.        ,\n",
       "         0.        , 0.        , 0.        , 0.        , 0.        ,\n",
       "         0.        , 0.        , 0.        , 0.        , 0.        ,\n",
       "         0.        , 0.        , 0.        , 0.        , 0.        ,\n",
       "         0.        , 0.        , 0.        ]]], dtype=float32)"
      ]
     },
     "execution_count": 9,
     "metadata": {},
     "output_type": "execute_result"
    }
   ],
   "source": [
    "np_img"
   ]
  },
  {
   "cell_type": "code",
   "execution_count": 10,
   "id": "873066ce",
   "metadata": {},
   "outputs": [
    {
     "data": {
      "text/plain": [
       "(60000, 10000, 10000)"
      ]
     },
     "execution_count": 10,
     "metadata": {},
     "output_type": "execute_result"
    }
   ],
   "source": [
    "trianset, valset = torch.utils.data.random_split(trainset, [50000, 10000])\n",
    "len(trainset), len(valset), len(testset)"
   ]
  },
  {
   "cell_type": "code",
   "execution_count": 11,
   "id": "7ff9e246",
   "metadata": {},
   "outputs": [
    {
     "name": "stdout",
     "output_type": "stream",
     "text": [
      "Number of batches in the training set: 6250\n",
      "Number of batches in the validation set: 1250\n"
     ]
    }
   ],
   "source": [
    "print(f\"Number of batches in the training set: {int(50000 / batch_size)}\")\n",
    "print(f\"Number of batches in the validation set: {int(10000 / batch_size)}\")"
   ]
  },
  {
   "cell_type": "code",
   "execution_count": 12,
   "id": "13ce7e36",
   "metadata": {},
   "outputs": [
    {
     "data": {
      "text/plain": [
       "torchvision.datasets.mnist.FashionMNIST"
      ]
     },
     "execution_count": 12,
     "metadata": {},
     "output_type": "execute_result"
    }
   ],
   "source": [
    "type(trainset)"
   ]
  },
  {
   "cell_type": "code",
   "execution_count": 13,
   "id": "673c26ac",
   "metadata": {},
   "outputs": [],
   "source": [
    "trainloader = torch.utils.data.DataLoader(trainset, batch_size=batch_size,\n",
    "                                          shuffle=True, num_workers=2)\n",
    "\n",
    "valloader = torch.utils.data.DataLoader(valset, batch_size=batch_size,\n",
    "                                          shuffle=True, num_workers=2)\n",
    "\n",
    "testloader = torch.utils.data.DataLoader(testset, batch_size=batch_size,\n",
    "                                          shuffle=True, num_workers=2)"
   ]
  },
  {
   "cell_type": "code",
   "execution_count": 14,
   "id": "d0fb4db0",
   "metadata": {},
   "outputs": [],
   "source": [
    "import torch.nn as nn\n",
    "import torch.nn.functional as F\n",
    "\n",
    "class NeuralNet(nn.Module):\n",
    "    def __init__(self):\n",
    "        super().__init__()\n",
    "\n",
    "        self.conv1 = nn.Conv2d(in_channels=1, out_channels=256, kernel_size=3)\n",
    "        self.pool1 = nn.MaxPool2d(2,2)\n",
    "\n",
    "        self.conv2 = nn.Conv2d(in_channels=256, out_channels=512, kernel_size=3)\n",
    "        self.pool2 = nn.MaxPool2d(2,2)\n",
    "\n",
    "        self.conv3 = nn.Conv2d(in_channels=512, out_channels=1024, kernel_size=2)\n",
    "        self.pool3 = nn.MaxPool2d(2,2)\n",
    "\n",
    "        self.flatten = nn.Flatten()\n",
    "\n",
    "        self.fc1 = nn.Linear(in_features=4096, out_features=1024)\n",
    "        self.drop1 = nn.Dropout(p=0.3)\n",
    "\n",
    "        self.fc2 = nn.Linear(in_features=1024, out_features=1024)\n",
    "        self.drop2 = nn.Dropout(p=0.3)\n",
    "\n",
    "        self.out = nn.Linear(in_features=1024, out_features=10)\n",
    "\n",
    "    def forward(self,x):\n",
    "        x=F.relu(self.conv1(x))\n",
    "        x=self.pool1(x)\n",
    "\n",
    "        x=F.relu(self.conv2(x))\n",
    "        x=self.pool2(x)\n",
    "\n",
    "        x=F.relu(self.conv3(x))\n",
    "        x=self.pool3(x)\n",
    "\n",
    "        x=self.flatten(x)\n",
    "\n",
    "        x=F.relu(self.fc1(x))\n",
    "        x=self.drop1(x)\n",
    "\n",
    "        x=F.relu(self.fc2(x))\n",
    "        x=self.drop2(x)\n",
    "\n",
    "        x=self.out(x)\n",
    "\n",
    "        return x"
   ]
  },
  {
   "cell_type": "code",
   "execution_count": 15,
   "id": "2acb8607",
   "metadata": {},
   "outputs": [
    {
     "data": {
      "text/plain": [
       "NeuralNet(\n",
       "  (conv1): Conv2d(1, 256, kernel_size=(3, 3), stride=(1, 1))\n",
       "  (pool1): MaxPool2d(kernel_size=2, stride=2, padding=0, dilation=1, ceil_mode=False)\n",
       "  (conv2): Conv2d(256, 512, kernel_size=(3, 3), stride=(1, 1))\n",
       "  (pool2): MaxPool2d(kernel_size=2, stride=2, padding=0, dilation=1, ceil_mode=False)\n",
       "  (conv3): Conv2d(512, 1024, kernel_size=(2, 2), stride=(1, 1))\n",
       "  (pool3): MaxPool2d(kernel_size=2, stride=2, padding=0, dilation=1, ceil_mode=False)\n",
       "  (flatten): Flatten(start_dim=1, end_dim=-1)\n",
       "  (fc1): Linear(in_features=4096, out_features=1024, bias=True)\n",
       "  (drop1): Dropout(p=0.3, inplace=False)\n",
       "  (fc2): Linear(in_features=1024, out_features=1024, bias=True)\n",
       "  (drop2): Dropout(p=0.3, inplace=False)\n",
       "  (out): Linear(in_features=1024, out_features=10, bias=True)\n",
       ")"
      ]
     },
     "execution_count": 15,
     "metadata": {},
     "output_type": "execute_result"
    }
   ],
   "source": [
    "net= NeuralNet()\n",
    "net.to(device)"
   ]
  },
  {
   "cell_type": "code",
   "execution_count": 16,
   "id": "96b77160",
   "metadata": {},
   "outputs": [
    {
     "name": "stdout",
     "output_type": "stream",
     "text": [
      "input shape: torch.Size([8, 1, 28, 28])\n",
      "after network reshape: torch.Size([8, 10])\n"
     ]
    }
   ],
   "source": [
    "for i, data in enumerate(trainloader):\n",
    "    inputs, labels = data[0].to(device), data[1].to(device)\n",
    "    print(f\"input shape: {inputs.shape}\")\n",
    "    print(f\"after network reshape: {net(inputs).shape}\")\n",
    "    break"
   ]
  },
  {
   "cell_type": "code",
   "execution_count": 17,
   "id": "c9e1b389",
   "metadata": {},
   "outputs": [
    {
     "name": "stdout",
     "output_type": "stream",
     "text": [
      "Number of parameters in the model: 8,536,074\n"
     ]
    }
   ],
   "source": [
    "num_params = 0\n",
    "\n",
    "for x in net.parameters():\n",
    "    num_params+=len(torch.flatten(x))\n",
    "\n",
    "print(f\"Number of parameters in the model: {num_params:,}\")"
   ]
  },
  {
   "cell_type": "code",
   "execution_count": 18,
   "id": "e8170da4",
   "metadata": {},
   "outputs": [],
   "source": [
    "import torch.optim as optim\n",
    "\n",
    "criterion=nn.CrossEntropyLoss()\n",
    "optimizer=optim.Adam(net.parameters(), lr=0.001)"
   ]
  },
  {
   "cell_type": "code",
   "execution_count": 19,
   "id": "fc604ef4",
   "metadata": {},
   "outputs": [
    {
     "name": "stdout",
     "output_type": "stream",
     "text": [
      "\n"
     ]
    }
   ],
   "source": [
    "def train_one_epoch():\n",
    "    net.train(True)\n",
    "\n",
    "    running_loss = 0.0\n",
    "    running_accuracy = 0.0\n",
    "\n",
    "    for batch_idx, data in enumerate(trainloader):\n",
    "        inputs, labels = data[0].to(device), data[1].to(device)\n",
    "\n",
    "        optimizer.zero_grad()\n",
    "\n",
    "        outputs = net(inputs) # shape: [batch_size, 10]\n",
    "        correct = torch.sum(labels == torch.argmax(outputs, dim=1)).item()\n",
    "        running_accuracy += correct/batch_size\n",
    "\n",
    "        loss = criterion(outputs, labels)\n",
    "        running_loss += loss.item()\n",
    "        loss.backward()\n",
    "        optimizer.step()\n",
    "\n",
    "        if batch_idx % 500 == 499: # print every 500 batches\n",
    "            avg_loss_across_batches = running_loss / 500\n",
    "            avg_acc_across_batches = (running_accuracy / 500) * 100\n",
    "            print(\"Batch {0}, Loss: {1:.3f}, Accuracy: {2: .1f}%\".format(batch_idx+1,\n",
    "                                                                         avg_loss_across_batches,\n",
    "                                                                         avg_acc_across_batches))\n",
    "            \n",
    "            running_loss = 0.0\n",
    "            running_accuracy = 0.0\n",
    "\n",
    "print()"
   ]
  },
  {
   "cell_type": "code",
   "execution_count": 20,
   "id": "6b666ad4",
   "metadata": {},
   "outputs": [],
   "source": [
    "def validate_one_epoch():\n",
    "    net.train(False)\n",
    "\n",
    "    running_loss = 0.0\n",
    "    running_accuracy = 0.0\n",
    "\n",
    "    for i, data in enumerate(valloader):\n",
    "        inputs, labels = data[0].to(device), data[1].to(device)\n",
    "\n",
    "        with torch.no_grad():\n",
    "            outputs = net(inputs) # shape: [batch_size, 10]\n",
    "            correct = torch.sum(labels == torch.argmax(outputs, dim=1)).item()\n",
    "            running_accuracy += correct / batch_size\n",
    "            loss = criterion(outputs, labels) # One number, the average batch loss\n",
    "            running_loss += loss.item()\n",
    "\n",
    "    avg_loss_across_batches = running_loss / len(valloader)\n",
    "    avg_acc_across_batches = (running_accuracy / len(valloader)) * 100\n",
    "\n",
    "    print(\"Val loss: {0: .3f}, Val Accuracy: {1: .1f}%\".format(avg_loss_across_batches,\n",
    "                                                               avg_acc_across_batches))\n",
    "    \n",
    "    print(50*'*')\n",
    "    print()"
   ]
  },
  {
   "cell_type": "code",
   "execution_count": null,
   "id": "01889545",
   "metadata": {},
   "outputs": [],
   "source": [
    "num_epochs = 10\n",
    "\n",
    "for epoch_index in range(num_epochs):\n",
    "    print(f\"Epochs: {epoch_index + 1} \\n\")\n",
    "\n",
    "    train_one_epoch()\n",
    "    validate_one_epoch()\n",
    "\n",
    "print('Finished Training')"
   ]
  },
  {
   "cell_type": "code",
   "execution_count": null,
   "id": "65a1dfac",
   "metadata": {},
   "outputs": [],
   "source": []
  }
 ],
 "metadata": {
  "kernelspec": {
   "display_name": "Python 3 (ipykernel)",
   "language": "python",
   "name": "python3"
  },
  "language_info": {
   "codemirror_mode": {
    "name": "ipython",
    "version": 3
   },
   "file_extension": ".py",
   "mimetype": "text/x-python",
   "name": "python",
   "nbconvert_exporter": "python",
   "pygments_lexer": "ipython3",
   "version": "3.11.7"
  }
 },
 "nbformat": 4,
 "nbformat_minor": 5
}
