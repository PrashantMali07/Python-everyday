{
 "cells": [
  {
   "cell_type": "markdown",
   "id": "773078d2",
   "metadata": {},
   "source": [
    "Python lists support various operations, including:\n"
   ]
  },
  {
   "cell_type": "markdown",
   "id": "a7f85cc1",
   "metadata": {},
   "source": [
    "### Append\n",
    "Adds an element to the end of the list."
   ]
  },
  {
   "cell_type": "code",
   "execution_count": null,
   "id": "6a893a91",
   "metadata": {},
   "outputs": [],
   "source": [
    "mylist = [1, 2, 3]\n",
    "mylist.append(4)  # [1, 2, 3, 4]"
   ]
  },
  {
   "cell_type": "markdown",
   "id": "0132affd",
   "metadata": {},
   "source": [
    "### Extend\n",
    "Adds multiple elements to the end of the list."
   ]
  },
  {
   "cell_type": "code",
   "execution_count": null,
   "id": "c2639b81",
   "metadata": {},
   "outputs": [],
   "source": [
    "mylist = [1, 2, 3]\n",
    "mylist.extend([4, 5, 6])  # [1, 2, 3, 4, 5, 6]"
   ]
  },
  {
   "cell_type": "markdown",
   "id": "39e2c097",
   "metadata": {},
   "source": [
    "### Insert\n",
    "Inserts an element at a specified position."
   ]
  },
  {
   "cell_type": "code",
   "execution_count": null,
   "id": "7a38e478",
   "metadata": {},
   "outputs": [],
   "source": [
    "mylist = [1, 2, 3]\n",
    "mylist.insert(1, 4)  # [1, 4, 2, 3]"
   ]
  },
  {
   "cell_type": "markdown",
   "id": "1eab8202",
   "metadata": {},
   "source": [
    "### Remove\n",
    "Deletes the first occurrence of a specified element."
   ]
  },
  {
   "cell_type": "code",
   "execution_count": null,
   "id": "4d1d3606",
   "metadata": {},
   "outputs": [],
   "source": [
    "mylist = [1, 2, 3, 2, 4]\n",
    "mylist.remove(2)  # [1, 3, 2, 4]"
   ]
  },
  {
   "cell_type": "markdown",
   "id": "bcddfa59",
   "metadata": {},
   "source": [
    "### Pop\n",
    "Removes and returns an element at a specified position (default is -1, which means the last element)."
   ]
  },
  {
   "cell_type": "code",
   "execution_count": null,
   "id": "4e4e7fc8",
   "metadata": {},
   "outputs": [],
   "source": [
    "mylist = [1, 2, 3]\n",
    "poppedelement = mylist.pop(1)  # 2\n",
    "print(mylist)  # [1, 3]"
   ]
  },
  {
   "cell_type": "markdown",
   "id": "d3a9e15f",
   "metadata": {},
   "source": [
    "### Slice\n",
    "Returns a subset of the list, specified by a range."
   ]
  },
  {
   "cell_type": "code",
   "execution_count": null,
   "id": "c5cf9081",
   "metadata": {},
   "outputs": [],
   "source": [
    "mylist = [1, 2, 3]\n",
    "print(mylist[1:3])  # [2, 3]"
   ]
  },
  {
   "cell_type": "markdown",
   "id": "d74f2b69",
   "metadata": {},
   "source": [
    "### Reverse\n",
    "Reverses the order of the list."
   ]
  },
  {
   "cell_type": "code",
   "execution_count": null,
   "id": "69a3f312",
   "metadata": {},
   "outputs": [],
   "source": [
    "mylist = [1, 2, 3]\n",
    "mylist.reverse()  # [3, 2, 1]"
   ]
  },
  {
   "cell_type": "markdown",
   "id": "6279ce93",
   "metadata": {},
   "source": [
    "### Min and Max\n",
    "Returns the minimum and maximum values in the list, respectively."
   ]
  },
  {
   "cell_type": "code",
   "execution_count": null,
   "id": "ca1d7e04",
   "metadata": {},
   "outputs": [],
   "source": [
    "mylist = [3, 1, 4, 2]\n",
    "print(min(mylist))  # 1\n",
    "print(max(mylist))  # 4"
   ]
  },
  {
   "cell_type": "markdown",
   "id": "199009a3",
   "metadata": {},
   "source": [
    "### Concatenate\n",
    "Joins two lists into a new list."
   ]
  },
  {
   "cell_type": "code",
   "execution_count": null,
   "id": "f58395e9",
   "metadata": {},
   "outputs": [],
   "source": [
    "list1 = [1, 2, 3]\n",
    "list2 = [4, 5, 6]\n",
    "concatenatedlist = list1 + list2  # [1, 2, 3, 4, 5, 6]"
   ]
  },
  {
   "cell_type": "markdown",
   "id": "046673ef",
   "metadata": {},
   "source": [
    "### Count\n",
    "Returns the number of occurrences of a specified element."
   ]
  },
  {
   "cell_type": "code",
   "execution_count": null,
   "id": "3bd242ce",
   "metadata": {},
   "outputs": [],
   "source": [
    "mylist = [1, 2, 2, 3]\n",
    "print(mylist.count(2))  # 2"
   ]
  },
  {
   "cell_type": "markdown",
   "id": "e09f9d40",
   "metadata": {},
   "source": [
    "### Sort\n",
    "Sorts the list in ascending or descending order."
   ]
  },
  {
   "cell_type": "code",
   "execution_count": null,
   "id": "cc5113a0",
   "metadata": {},
   "outputs": [],
   "source": [
    "mylist = [3, 1, 2]\n",
    "mylist.sort()  # [1, 2, 3]"
   ]
  },
  {
   "cell_type": "markdown",
   "id": "e25064ca",
   "metadata": {},
   "source": [
    "### Index\n",
    "Returns the index of the first occurrence of a specified element."
   ]
  },
  {
   "cell_type": "code",
   "execution_count": null,
   "id": "19f6df2f",
   "metadata": {},
   "outputs": [],
   "source": [
    "mylist = [1, 2, 3]\n",
    "print(mylist.index(2))  # 1"
   ]
  },
  {
   "cell_type": "markdown",
   "id": "c0380769",
   "metadata": {},
   "source": [
    "### Clear\n",
    "Empties the list."
   ]
  },
  {
   "cell_type": "code",
   "execution_count": null,
   "id": "9e7486e9",
   "metadata": {},
   "outputs": [],
   "source": [
    "mylist = [1, 2, 3]\n",
    "mylist.clear()  # []"
   ]
  },
  {
   "cell_type": "markdown",
   "id": "a9886b1d",
   "metadata": {},
   "source": [
    "### Copy\n",
    "Creates a shallow copy of the list."
   ]
  },
  {
   "cell_type": "code",
   "execution_count": null,
   "id": "557704da",
   "metadata": {},
   "outputs": [],
   "source": [
    "mylist = [1, 2, 3]\n",
    "copiedlist = mylist.copy()\n",
    "print(copiedlist)  # [1, 2, 3]"
   ]
  }
 ],
 "metadata": {
  "language_info": {
   "name": "python"
  }
 },
 "nbformat": 4,
 "nbformat_minor": 5
}
