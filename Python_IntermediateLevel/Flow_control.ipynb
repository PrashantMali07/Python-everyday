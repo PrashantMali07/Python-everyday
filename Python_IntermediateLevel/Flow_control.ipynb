{
 "cells": [
  {
   "cell_type": "markdown",
   "metadata": {},
   "source": [
    "## 1. if-else"
   ]
  },
  {
   "cell_type": "code",
   "execution_count": 8,
   "metadata": {},
   "outputs": [
    {
     "name": "stdout",
     "output_type": "stream",
     "text": [
      "Entered number is 5, Its Odd.\n"
     ]
    }
   ],
   "source": [
    "# Syntax\n",
    "\n",
    "# if (condition):\n",
    "#     statement 1\n",
    "# ...\n",
    "\n",
    "# else:\n",
    "#     statement 2\n",
    "\n",
    "# ...\n",
    "\n",
    "## Check the given number is even or not?\n",
    "\n",
    "x = int(input(\"Please enter a number: \"))\n",
    "\n",
    "if (x % 2 == 0) and (x != 0):\n",
    "    ## statement 1\n",
    "    print(f\"Entered number is {x}, Its Even.\")\n",
    "\n",
    "else:\n",
    "    print(f\"Entered number is {x}, Its Odd.\")"
   ]
  },
  {
   "cell_type": "markdown",
   "metadata": {},
   "source": [
    "## 2. Nested If-else"
   ]
  },
  {
   "cell_type": "markdown",
   "metadata": {},
   "source": [
    "## Syntax:\n",
    "\n",
    "```python\n",
    "if (condition):\n",
    "    statement 1\n",
    "...\n",
    "\n",
    "elif (condition):\n",
    "    statement 2\n",
    "...\n",
    "\n",
    "else:\n",
    "    statement 3\n",
    "\n",
    "...\n",
    "```"
   ]
  },
  {
   "cell_type": "code",
   "execution_count": null,
   "metadata": {},
   "outputs": [
    {
     "name": "stdout",
     "output_type": "stream",
     "text": [
      "Passed with distinction\n"
     ]
    }
   ],
   "source": [
    "## Check the marks obtained and share the reult that the student passed or not?\n",
    "\n",
    "marks=float(input(\"Enter your marks: \"))\n",
    "result=''\n",
    "\n",
    "if marks < 30:\n",
    "    result='Failed'\n",
    "\n",
    "elif marks > 75:\n",
    "    result='Passed with distinction'\n",
    "\n",
    "else:\n",
    "    result='Passed'\n",
    "\n",
    "print(result)"
   ]
  },
  {
   "cell_type": "markdown",
   "metadata": {},
   "source": [
    "### Syntax:\n",
    "\n",
    "```python \n",
    "\n",
    "if boolean_expression1:\n",
    "   statement(s)\n",
    "   if boolean_expression2:\n",
    "      statement(s)\n",
    "```"
   ]
  },
  {
   "cell_type": "code",
   "execution_count": 21,
   "metadata": {},
   "outputs": [
    {
     "name": "stdout",
     "output_type": "stream",
     "text": [
      "num =  36\n",
      "Divisible by 3 and 2\n",
      "....execution ends....\n"
     ]
    }
   ],
   "source": [
    "num = 36\n",
    "print (\"num = \", num)\n",
    "if num % 2 == 0:\n",
    "   if num % 3 == 0:\n",
    "      print (\"Divisible by 3 and 2\")\n",
    "print(\"....execution ends....\")"
   ]
  },
  {
   "cell_type": "markdown",
   "metadata": {},
   "source": [
    "### Syntax:\n",
    "\n",
    "```python\n",
    "if expression1:\n",
    "   statement(s)\n",
    "   if expression2:\n",
    "      statement(s)\n",
    "   else\n",
    "      statement(s)\n",
    "else:\n",
    "   if expression3:\n",
    "      statement(s)\n",
    "   else:\n",
    "      statement(s)\n",
    "```"
   ]
  },
  {
   "cell_type": "code",
   "execution_count": null,
   "metadata": {},
   "outputs": [],
   "source": [
    "num=8\n",
    "print (\"num = \",num)\n",
    "if num%2==0:\n",
    "   if num%3==0:\n",
    "      print (\"Divisible by 3 and 2\")\n",
    "   else:\n",
    "      print (\"divisible by 2 not divisible by 3\")\n",
    "else:\n",
    "   if num%3==0:\n",
    "      print (\"divisible by 3 not divisible by 2\")\n",
    "   else:\n",
    "      print (\"not Divisible by 2 not divisible by 3\")"
   ]
  },
  {
   "cell_type": "markdown",
   "metadata": {},
   "source": [
    "## 3. for loop"
   ]
  },
  {
   "cell_type": "markdown",
   "metadata": {},
   "source": [
    "#### Syntax:\n",
    "```python\n",
    "\n",
    "for itrating_variable in sequence/item:\n",
    "    executable_statement/item\n",
    "```"
   ]
  },
  {
   "cell_type": "code",
   "execution_count": 11,
   "metadata": {},
   "outputs": [
    {
     "name": "stdout",
     "output_type": "stream",
     "text": [
      "one\n",
      "two\n",
      "three\n"
     ]
    }
   ],
   "source": [
    "## Example 1\n",
    "\n",
    "words = [\"one\", \"two\", \"three\"] ## the items as a list\n",
    "\n",
    "for x in words: ## x >> iterator\n",
    "  ## executable statement\n",
    "  print(x)"
   ]
  },
  {
   "cell_type": "code",
   "execution_count": 28,
   "metadata": {},
   "outputs": [
    {
     "name": "stdout",
     "output_type": "stream",
     "text": [
      "0 one\n",
      "1 two\n",
      "2 three\n"
     ]
    }
   ],
   "source": [
    "# Example 2\n",
    "\n",
    "## executing the below code using 'enumerate'\n",
    "\n",
    "words = [\"one\", \"two\", \"three\"] ## the items as a list\n",
    "\n",
    "for idx, items in enumerate(words): ## x >> iterator\n",
    "  ## executable statement\n",
    "  print(idx, items)"
   ]
  },
  {
   "cell_type": "markdown",
   "metadata": {},
   "source": [
    "### Python for Loop with Strings\n",
    "\n",
    "A string is a sequence of Unicode letters, each having a positional index. Since, it is a sequence, you can iterate over its characters using the for loop.\n"
   ]
  },
  {
   "cell_type": "code",
   "execution_count": 31,
   "metadata": {},
   "outputs": [
    {
     "name": "stdout",
     "output_type": "stream",
     "text": [
      "On executing, this code will produce the following output −\n",
      "\n",
      "Btfl s bttr thn gly.\n",
      "Explct s bttr thn mplct.\n",
      "Smpl s bttr thn cmplx.\n",
      "Cmplx s bttr thn cmplctd.\n"
     ]
    }
   ],
   "source": [
    "# Example 3\n",
    "\n",
    "# The following example compares each character and displays if it is not a vowel ('a', 'e', 'i', 'o', 'u').\n",
    "\n",
    "zen = '''\n",
    "Beautiful is better than ugly.\n",
    "Explicit is better than implicit.\n",
    "Simple is better than complex.\n",
    "Complex is better than complicated.\n",
    "'''\n",
    "\n",
    "print(\"On executing, this code will produce the following output −\")\n",
    "for char in zen:\n",
    "   if char not in 'aeiou':\n",
    "      print (char, end='')\n"
   ]
  },
  {
   "cell_type": "markdown",
   "metadata": {},
   "source": [
    "#### Python for Loop with Tuples\n",
    "\n",
    "`Python's tuple` object is also an indexed sequence, and hence you can traverse its items with a **for loop**."
   ]
  },
  {
   "cell_type": "code",
   "execution_count": 32,
   "metadata": {},
   "outputs": [
    {
     "name": "stdout",
     "output_type": "stream",
     "text": [
      "Total = 539\n"
     ]
    }
   ],
   "source": [
    "# Example 4\n",
    "# In the following example, the for loop traverses a tuple containing integers and returns the total of all numbers.\n",
    "\n",
    "numbers = (34,54,67,21,78,97,45,44,80,19)\n",
    "total = 0\n",
    "for num in numbers:\n",
    "   total += num\n",
    "print (\"Total =\", total)"
   ]
  },
  {
   "cell_type": "markdown",
   "metadata": {},
   "source": [
    "### Python for Loop with Lists\n",
    "\n",
    "`Python's list` object is also an indexed sequence, and hence you can iterate over its items using a **for loop**."
   ]
  },
  {
   "cell_type": "code",
   "execution_count": 33,
   "metadata": {},
   "outputs": [
    {
     "name": "stdout",
     "output_type": "stream",
     "text": [
      "34\n",
      "54\n",
      "78\n",
      "44\n",
      "80\n"
     ]
    }
   ],
   "source": [
    "# Example 5\n",
    "# In the following example, the for loop traverses a list containing integers and prints only those which are divisible by 2.\n",
    "\n",
    "numbers = [34,54,67,21,78,97,45,44,80,19]\n",
    "total = 0\n",
    "for num in numbers:\n",
    "   if num%2 == 0:\n",
    "      print (num)"
   ]
  },
  {
   "cell_type": "markdown",
   "metadata": {},
   "source": [
    "### Python for Loop with Range Objects\n",
    "\n",
    "Python's built-in `range()` function returns an iterator object that streams a sequence of numbers. This object contains integers from start to stop, separated by step parameter. You can run a for loop with range as well."
   ]
  },
  {
   "cell_type": "markdown",
   "metadata": {},
   "source": [
    "#### Syntax:\n",
    "\n",
    "The range() function has the following syntax −\n",
    "\n",
    "```python\n",
    "\n",
    "range(start, stop, step)\n",
    "\n",
    "```"
   ]
  },
  {
   "cell_type": "markdown",
   "metadata": {},
   "source": [
    "Where,\n",
    "\n",
    "```text\n",
    "- Start − Starting value of the range. Optional. Default is 0\n",
    "\n",
    "- Stop − The range goes upto stop-1\n",
    "\n",
    "- Step − Integers in the range increment by the step value. Option, default is 1.\n",
    "```"
   ]
  },
  {
   "cell_type": "code",
   "execution_count": 34,
   "metadata": {},
   "outputs": [
    {
     "name": "stdout",
     "output_type": "stream",
     "text": [
      "0 1 2 3 4 \n",
      "10 11 12 13 14 15 16 17 18 19 \n",
      "1 3 5 7 9 "
     ]
    }
   ],
   "source": [
    "# Example 6\n",
    "\n",
    "for num in range(5):\n",
    "   print (num, end=' ')\n",
    "print()\n",
    "for num in range(10, 20):\n",
    "   print (num, end=' ')\n",
    "print()\n",
    "for num in range(1, 10, 2):\n",
    "   print (num, end=' ')"
   ]
  },
  {
   "cell_type": "markdown",
   "metadata": {},
   "source": [
    "#### Using else Statement with For Loop\n",
    "\n",
    "Python supports to have an else statement associated with a loop statement. However, the else statement is executed when the loop has exhausted iterating the list."
   ]
  },
  {
   "cell_type": "code",
   "execution_count": 1,
   "metadata": {},
   "outputs": [
    {
     "name": "stdout",
     "output_type": "stream",
     "text": [
      "10 equals 2 * 5\n",
      "11 is a prime number\n",
      "12 equals 2 * 6\n",
      "13 is a prime number\n",
      "14 equals 2 * 7\n",
      "15 is a prime number\n",
      "16 equals 2 * 8\n",
      "17 is a prime number\n",
      "18 equals 2 * 9\n",
      "19 is a prime number\n"
     ]
    }
   ],
   "source": [
    "# Example 7\n",
    "\n",
    "# The following example illustrates the combination of an else statement with a for statement that searches for prime numbers from 10 to 20.\n",
    "\n",
    "#For loop to iterate between 10 to 20\n",
    "for num in range(10, 20):  \n",
    "   #For loop to iterate on the factors \n",
    "   for i in range(2,num): \n",
    "      #If statement to determine the first factor\n",
    "      if num%i == 0:      \n",
    "         #To calculate the second factor\n",
    "         j=num/i          \n",
    "         print (\"%d equals %d * %d\" % (num,i,j))\n",
    "         #To move to the next number\n",
    "         break \n",
    "      else:                  \n",
    "         print (num, \"is a prime number\")\n",
    "         break"
   ]
  },
  {
   "cell_type": "markdown",
   "metadata": {},
   "source": [
    "## 4. while loop"
   ]
  },
  {
   "cell_type": "code",
   "execution_count": 13,
   "metadata": {},
   "outputs": [
    {
     "name": "stdout",
     "output_type": "stream",
     "text": [
      "1\n",
      "2\n",
      "3\n",
      "4\n",
      "5\n"
     ]
    }
   ],
   "source": [
    "# Syntax:\n",
    "\n",
    "# while (condition is True):\n",
    "#     statement 1 executes, else it will stop execution\n",
    "\n",
    "\n",
    "\n",
    "i = 1\n",
    "while i < 6: ## Loop exit when 'i' equals to 6 or conditon not met\n",
    "  print(i)\n",
    "  i += 1"
   ]
  },
  {
   "cell_type": "markdown",
   "metadata": {},
   "source": [
    "## 5. match-case"
   ]
  },
  {
   "cell_type": "markdown",
   "metadata": {},
   "source": [
    "### Syntax: \n",
    "\n",
    "```python\n",
    "match variable_name:\n",
    "   case 'pattern 1' : statement 1\n",
    "   case 'pattern 2' : statement 2\n",
    "   ...\n",
    "   case 'pattern n' : statement n\n",
    "```"
   ]
  },
  {
   "cell_type": "code",
   "execution_count": 15,
   "metadata": {},
   "outputs": [
    {
     "name": "stdout",
     "output_type": "stream",
     "text": [
      "Vowel\n",
      "Consonant\n",
      "Vowel\n"
     ]
    }
   ],
   "source": [
    "## Example 1\n",
    "\n",
    "def checkVowel(item):\n",
    "   match item:\n",
    "      case 'a': return \"Vowel\"\n",
    "      case 'e': return \"Vowel\"\n",
    "      case 'i': return \"Vowel\"\n",
    "      case 'o': return \"Vowel\"\n",
    "      case 'u': return \"Vowel\"\n",
    "      case _: return \"Consonant\"\n",
    "print (checkVowel('a'))\n",
    "print (checkVowel('m'))\n",
    "print (checkVowel('o'))"
   ]
  },
  {
   "cell_type": "code",
   "execution_count": 22,
   "metadata": {},
   "outputs": [
    {
     "name": "stdout",
     "output_type": "stream",
     "text": [
      "Thursday\n",
      "Sunday\n",
      "Invalid day number\n"
     ]
    }
   ],
   "source": [
    "## Example 2\n",
    "\n",
    "def weekday(n):\n",
    "   match n:\n",
    "      case 0: return \"Monday\"\n",
    "      case 1: return \"Tuesday\"\n",
    "      case 2: return \"Wednesday\"\n",
    "      case 3: return \"Thursday\"\n",
    "      case 4: return \"Friday\"\n",
    "      case 5: return \"Saturday\"\n",
    "      case 6: return \"Sunday\"\n",
    "      case _: return \"Invalid day number\"\n",
    "print (weekday(3))\n",
    "print (weekday(6))\n",
    "print (weekday(7))"
   ]
  },
  {
   "cell_type": "markdown",
   "metadata": {},
   "source": [
    "#### Combined Cases in Match Statement"
   ]
  },
  {
   "cell_type": "code",
   "execution_count": 23,
   "metadata": {},
   "outputs": [
    {
     "name": "stdout",
     "output_type": "stream",
     "text": [
      "Full access\n",
      "Limited access\n",
      "No access\n"
     ]
    }
   ],
   "source": [
    "## Example 3\n",
    "\n",
    "def access(user):\n",
    "   match user:\n",
    "      case \"admin\" | \"manager\": return \"Full access\"\n",
    "      case \"Guest\": return \"Limited access\"\n",
    "      case _: return \"No access\"\n",
    "print (access(\"manager\"))\n",
    "print (access(\"Guest\"))\n",
    "print (access(\"Ravi\"))"
   ]
  },
  {
   "cell_type": "markdown",
   "metadata": {},
   "source": [
    "#### List as the Argument in Match Case Statement\n",
    "\n",
    "Since Python can match the expression against any `literal`, you can use a `list` as a case value. Moreover, for variable number of items in the list, they can be parsed to a sequence with **\"*\"** operator."
   ]
  },
  {
   "cell_type": "code",
   "execution_count": 26,
   "metadata": {},
   "outputs": [
    {
     "name": "stdout",
     "output_type": "stream",
     "text": [
      "Good Morning Ravi!\n",
      "Good Afternoon Guest!\n",
      "Good Evening Kajal!\n",
      "Good Evening Praveen!\n",
      "Good Evening Lata!\n",
      "\n"
     ]
    }
   ],
   "source": [
    "## Example 4\n",
    "# In this code, we use list as argument in match case statement.\n",
    "\n",
    "def greeting(details):\n",
    "   match details:\n",
    "      case [time, name]:\n",
    "         return f'Good {time} {name}!'\n",
    "      case [time, *names]:\n",
    "         msg=''\n",
    "         for name in names:\n",
    "            msg+=f'Good {time} {name}!\\n'\n",
    "         return msg\n",
    "\n",
    "print (greeting([\"Morning\", \"Ravi\"]))\n",
    "print (greeting([\"Afternoon\",\"Guest\"]))\n",
    "print (greeting([\"Evening\", \"Kajal\", \"Praveen\", \"Lata\"]))"
   ]
  },
  {
   "cell_type": "markdown",
   "metadata": {},
   "source": [
    "#### Using \"if\" in \"Case\" Clause\n",
    "\n",
    "Normally Python matches an expression against literal cases. However, it allows you to include if statement in the case clause for conditional computation of match variable."
   ]
  },
  {
   "cell_type": "code",
   "execution_count": 25,
   "metadata": {},
   "outputs": [
    {
     "name": "stdout",
     "output_type": "stream",
     "text": [
      "Interest =  2500.0\n",
      "Interest =  6750.0\n"
     ]
    }
   ],
   "source": [
    "## Example 5\n",
    "# In the following example, the function argument is a list of amount and duration, and the intereset is to be calculated for amount less than or more than 10000.\n",
    "# The condition is included in the case clause.\n",
    "\n",
    "def intr(details):\n",
    "   match details:\n",
    "      case [amt, duration] if amt<10000:\n",
    "         return amt*10*duration/100\n",
    "      case [amt, duration] if amt>=10000:\n",
    "         return amt*15*duration/100\n",
    "\n",
    "print (\"Interest = \", intr([5000,5]))\n",
    "print (\"Interest = \", intr([15000,3]))"
   ]
  },
  {
   "cell_type": "markdown",
   "metadata": {},
   "source": [
    "## 6. break"
   ]
  },
  {
   "cell_type": "code",
   "execution_count": 17,
   "metadata": {},
   "outputs": [
    {
     "name": "stdout",
     "output_type": "stream",
     "text": [
      "x: 0\n",
      "x: 1\n",
      "x: 2\n",
      "x: 3\n",
      "x: 4\n",
      "x: 5\n",
      "Breaking...\n",
      "End\n"
     ]
    }
   ],
   "source": [
    "'''\n",
    "The break Statement:\n",
    "It terminates the current loop and resumes execution at the next statement.\n",
    "'''\n",
    "\n",
    "\n",
    "x = 0\n",
    "\n",
    "while x < 10:\n",
    "    print(\"x:\", x)\n",
    "    if x == 5:\n",
    "        print(\"Breaking...\")\n",
    "        break\n",
    "    x += 1\n",
    "\n",
    "print(\"End\")"
   ]
  },
  {
   "cell_type": "markdown",
   "metadata": {},
   "source": [
    "## 7. continue"
   ]
  },
  {
   "cell_type": "code",
   "execution_count": 19,
   "metadata": {},
   "outputs": [
    {
     "name": "stdout",
     "output_type": "stream",
     "text": [
      "Current Letter : P\n",
      "Current Letter : y\n",
      "Current Letter : t\n",
      "Current Letter : o\n",
      "Current Letter : n\n"
     ]
    }
   ],
   "source": [
    "'''\n",
    "The continue Statement:\n",
    "It skips the execution of the program block and returns the control to the beginning of the current loop to start the next iteration.\n",
    "\n",
    "'''\n",
    "\n",
    "for letter in \"Python\":\n",
    "    # continue when letter is 'h'\n",
    "    if letter == \"h\":\n",
    "        continue\n",
    "    print(\"Current Letter :\", letter)"
   ]
  }
 ],
 "metadata": {
  "kernelspec": {
   "display_name": "base",
   "language": "python",
   "name": "python3"
  },
  "language_info": {
   "codemirror_mode": {
    "name": "ipython",
    "version": 3
   },
   "file_extension": ".py",
   "mimetype": "text/x-python",
   "name": "python",
   "nbconvert_exporter": "python",
   "pygments_lexer": "ipython3",
   "version": "3.12.4"
  }
 },
 "nbformat": 4,
 "nbformat_minor": 2
}
